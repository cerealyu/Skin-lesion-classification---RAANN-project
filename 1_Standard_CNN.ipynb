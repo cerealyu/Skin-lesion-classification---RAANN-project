{
  "nbformat": 4,
  "nbformat_minor": 0,
  "metadata": {
    "colab": {
      "name": "1. Standard CNN.ipynb",
      "provenance": [],
      "collapsed_sections": []
    },
    "kernelspec": {
      "name": "python3",
      "display_name": "Python 3"
    },
    "accelerator": "GPU"
  },
  "cells": [
    {
      "cell_type": "markdown",
      "metadata": {
        "id": "raBOwFcaUSex",
        "colab_type": "text"
      },
      "source": [
        "# Skin Lesions Classification:\n",
        "Standard CNN was based on https://github.com/singhv1shal/Skin-Cancer-Classification-Using-CNN submitted by Vishal Singh. \n",
        "## Dataset\n",
        "This model is trained over ISIC2019 Training dataset which contains lesions with multiple images in ISIC_2019_Training_Input, which can be tracked by the lesion_id-column within the ISIC_2019_Training_Metadata.csv and ISIC_2019_Training_GroundTruth.csv file. The above two files are joined to form a full.csv file which is used in this project.\n",
        "\n",
        "The data is splitted into train and test set with 80/20 ratio.\n",
        "\n",
        "## Model\n",
        "The model uses Convolutional Neural Networks. The starting two layer and last layers contain 32 filters and 64 filters respectively. Average pooling is used 2 times to downsample the image. All intermediate layers use ReLU activation and final layer uses softmax activation.\n",
        "\n",
        "## Implementational Details\n",
        "Keras is used to implement the CNN. The model is trained on Jupyter notebook on Google Colab GPU. \n",
        "\n",
        "## Result\n",
        "The model achieved 60.2% accuracy on test data."
      ]
    },
    {
      "cell_type": "code",
      "metadata": {
        "id": "vM16vsFO3wQw",
        "colab_type": "code",
        "colab": {}
      },
      "source": [
        "#import basic libraries\n",
        "import os\n",
        "import numpy as np\n",
        "import pandas as pd\n",
        "import matplotlib.pyplot as plt\n",
        "import seaborn as sns\n",
        "from glob import glob\n",
        "from PIL import Image\n",
        "\n",
        "from warnings import filterwarnings\n",
        "\n",
        "np.random.seed(101)\n",
        "filterwarnings('ignore')\n",
        "sns.set_style('darkgrid')"
      ],
      "execution_count": 0,
      "outputs": []
    },
    {
      "cell_type": "markdown",
      "metadata": {
        "id": "Tt6zMvBsT7P6",
        "colab_type": "text"
      },
      "source": [
        "**Setting data path**"
      ]
    },
    {
      "cell_type": "code",
      "metadata": {
        "id": "tTWnvfxSgUQA",
        "colab_type": "code",
        "outputId": "44ff862d-99cb-403c-ec6b-9df8215c08e4",
        "colab": {
          "base_uri": "https://localhost:8080/",
          "height": 122
        }
      },
      "source": [
        "from google.colab import drive\n",
        "drive.mount(\"/content/drive\", force_remount=True)"
      ],
      "execution_count": 0,
      "outputs": [
        {
          "output_type": "stream",
          "text": [
            "Go to this URL in a browser: https://accounts.google.com/o/oauth2/auth?client_id=947318989803-6bn6qk8qdgf4n4g3pfee6491hc0brc4i.apps.googleusercontent.com&redirect_uri=urn%3Aietf%3Awg%3Aoauth%3A2.0%3Aoob&scope=email%20https%3A%2F%2Fwww.googleapis.com%2Fauth%2Fdocs.test%20https%3A%2F%2Fwww.googleapis.com%2Fauth%2Fdrive%20https%3A%2F%2Fwww.googleapis.com%2Fauth%2Fdrive.photos.readonly%20https%3A%2F%2Fwww.googleapis.com%2Fauth%2Fpeopleapi.readonly&response_type=code\n",
            "\n",
            "Enter your authorization code:\n",
            "··········\n",
            "Mounted at /content/drive\n"
          ],
          "name": "stdout"
        }
      ]
    },
    {
      "cell_type": "code",
      "metadata": {
        "id": "rWTkAN3Vhjld",
        "colab_type": "code",
        "outputId": "32da3c0b-83d2-44a0-aefc-481494bd5f3f",
        "colab": {
          "base_uri": "https://localhost:8080/",
          "height": 34
        }
      },
      "source": [
        "# copy file to colab directory\n",
        "import shutil\n",
        "shutil.copy2(\"drive/My Drive/ISIC/ISIC_2019_Training_Input.zip\", \"./\")"
      ],
      "execution_count": 0,
      "outputs": [
        {
          "output_type": "execute_result",
          "data": {
            "text/plain": [
              "'./ISIC_2019_Training_Input.zip'"
            ]
          },
          "metadata": {
            "tags": []
          },
          "execution_count": 3
        }
      ]
    },
    {
      "cell_type": "code",
      "metadata": {
        "id": "ZFzqNLvWhpCC",
        "colab_type": "code",
        "colab": {}
      },
      "source": [
        "!unzip -q ISIC_2019_Training_Input.zip"
      ],
      "execution_count": 0,
      "outputs": []
    },
    {
      "cell_type": "code",
      "metadata": {
        "id": "yD12Pxkw4HRr",
        "colab_type": "code",
        "outputId": "1335cdf9-c26e-4b82-c9bc-98b5e44a34b2",
        "colab": {
          "base_uri": "https://localhost:8080/",
          "height": 34
        }
      },
      "source": [
        "# create image path\n",
        "base_loc = '/content/ISIC_2019_Training_Input'\n",
        "image_paths = {os.path.splitext(os.path.basename(x))[0]: x for x in glob(os.path.join(base_loc, '*.jpg'))}\n",
        "%cd /content/ISIC_2019_Training_Input"
      ],
      "execution_count": 0,
      "outputs": [
        {
          "output_type": "stream",
          "text": [
            "/content/ISIC_2019_Training_Input\n"
          ],
          "name": "stdout"
        }
      ]
    },
    {
      "cell_type": "code",
      "metadata": {
        "id": "rzhJkrVD4TYy",
        "colab_type": "code",
        "outputId": "f8e597d1-011e-41db-d580-b0a9a45def87",
        "colab": {
          "base_uri": "https://localhost:8080/",
          "height": 204
        }
      },
      "source": [
        "# merge csv file with image folder\n",
        "df_skin = pd.read_csv(os.path.join(base_loc, '/content/drive/My Drive/ISIC/full.csv'))\n",
        "df_skin.head()"
      ],
      "execution_count": 0,
      "outputs": [
        {
          "output_type": "execute_result",
          "data": {
            "text/html": [
              "<div>\n",
              "<style scoped>\n",
              "    .dataframe tbody tr th:only-of-type {\n",
              "        vertical-align: middle;\n",
              "    }\n",
              "\n",
              "    .dataframe tbody tr th {\n",
              "        vertical-align: top;\n",
              "    }\n",
              "\n",
              "    .dataframe thead th {\n",
              "        text-align: right;\n",
              "    }\n",
              "</style>\n",
              "<table border=\"1\" class=\"dataframe\">\n",
              "  <thead>\n",
              "    <tr style=\"text-align: right;\">\n",
              "      <th></th>\n",
              "      <th>image</th>\n",
              "      <th>diagnosis</th>\n",
              "      <th>age_approx</th>\n",
              "      <th>anatom_site_general</th>\n",
              "      <th>lesion_id</th>\n",
              "      <th>sex</th>\n",
              "      <th>is_val</th>\n",
              "    </tr>\n",
              "  </thead>\n",
              "  <tbody>\n",
              "    <tr>\n",
              "      <th>0</th>\n",
              "      <td>ISIC_0012756_downsampled</td>\n",
              "      <td>MEL</td>\n",
              "      <td>55.0</td>\n",
              "      <td>anterior torso</td>\n",
              "      <td>MSK4_0010029</td>\n",
              "      <td>male</td>\n",
              "      <td>0</td>\n",
              "    </tr>\n",
              "    <tr>\n",
              "      <th>1</th>\n",
              "      <td>ISIC_0012930_downsampled</td>\n",
              "      <td>MEL</td>\n",
              "      <td>70.0</td>\n",
              "      <td>posterior torso</td>\n",
              "      <td>MSK4_0010026</td>\n",
              "      <td>female</td>\n",
              "      <td>0</td>\n",
              "    </tr>\n",
              "    <tr>\n",
              "      <th>2</th>\n",
              "      <td>ISIC_0013184_downsampled</td>\n",
              "      <td>MEL</td>\n",
              "      <td>55.0</td>\n",
              "      <td>anterior torso</td>\n",
              "      <td>MSK4_0010029</td>\n",
              "      <td>male</td>\n",
              "      <td>0</td>\n",
              "    </tr>\n",
              "    <tr>\n",
              "      <th>3</th>\n",
              "      <td>ISIC_0013232_downsampled</td>\n",
              "      <td>MEL</td>\n",
              "      <td>70.0</td>\n",
              "      <td>posterior torso</td>\n",
              "      <td>MSK4_0010026</td>\n",
              "      <td>female</td>\n",
              "      <td>0</td>\n",
              "    </tr>\n",
              "    <tr>\n",
              "      <th>4</th>\n",
              "      <td>ISIC_0013274_downsampled</td>\n",
              "      <td>NV</td>\n",
              "      <td>65.0</td>\n",
              "      <td>anterior torso</td>\n",
              "      <td>MSK4_0010011</td>\n",
              "      <td>male</td>\n",
              "      <td>0</td>\n",
              "    </tr>\n",
              "  </tbody>\n",
              "</table>\n",
              "</div>"
            ],
            "text/plain": [
              "                      image diagnosis  age_approx  ...     lesion_id     sex is_val\n",
              "0  ISIC_0012756_downsampled       MEL        55.0  ...  MSK4_0010029    male      0\n",
              "1  ISIC_0012930_downsampled       MEL        70.0  ...  MSK4_0010026  female      0\n",
              "2  ISIC_0013184_downsampled       MEL        55.0  ...  MSK4_0010029    male      0\n",
              "3  ISIC_0013232_downsampled       MEL        70.0  ...  MSK4_0010026  female      0\n",
              "4  ISIC_0013274_downsampled        NV        65.0  ...  MSK4_0010011    male      0\n",
              "\n",
              "[5 rows x 7 columns]"
            ]
          },
          "metadata": {
            "tags": []
          },
          "execution_count": 6
        }
      ]
    },
    {
      "cell_type": "code",
      "metadata": {
        "id": "SuQ2M_5FERMs",
        "colab_type": "code",
        "outputId": "7491efb0-3ff6-434c-89d0-799113452528",
        "colab": {
          "base_uri": "https://localhost:8080/",
          "height": 224
        }
      },
      "source": [
        "# create new column with path information of each lesion\n",
        "df_skin['image_path'] = df_skin['image'].map(image_paths.get)\n",
        "df_skin.head()"
      ],
      "execution_count": 0,
      "outputs": [
        {
          "output_type": "execute_result",
          "data": {
            "text/html": [
              "<div>\n",
              "<style scoped>\n",
              "    .dataframe tbody tr th:only-of-type {\n",
              "        vertical-align: middle;\n",
              "    }\n",
              "\n",
              "    .dataframe tbody tr th {\n",
              "        vertical-align: top;\n",
              "    }\n",
              "\n",
              "    .dataframe thead th {\n",
              "        text-align: right;\n",
              "    }\n",
              "</style>\n",
              "<table border=\"1\" class=\"dataframe\">\n",
              "  <thead>\n",
              "    <tr style=\"text-align: right;\">\n",
              "      <th></th>\n",
              "      <th>image</th>\n",
              "      <th>diagnosis</th>\n",
              "      <th>age_approx</th>\n",
              "      <th>anatom_site_general</th>\n",
              "      <th>lesion_id</th>\n",
              "      <th>sex</th>\n",
              "      <th>is_val</th>\n",
              "      <th>image_path</th>\n",
              "    </tr>\n",
              "  </thead>\n",
              "  <tbody>\n",
              "    <tr>\n",
              "      <th>0</th>\n",
              "      <td>ISIC_0012756_downsampled</td>\n",
              "      <td>MEL</td>\n",
              "      <td>55.0</td>\n",
              "      <td>anterior torso</td>\n",
              "      <td>MSK4_0010029</td>\n",
              "      <td>male</td>\n",
              "      <td>0</td>\n",
              "      <td>/content/ISIC_2019_Training_Input/ISIC_0012756...</td>\n",
              "    </tr>\n",
              "    <tr>\n",
              "      <th>1</th>\n",
              "      <td>ISIC_0012930_downsampled</td>\n",
              "      <td>MEL</td>\n",
              "      <td>70.0</td>\n",
              "      <td>posterior torso</td>\n",
              "      <td>MSK4_0010026</td>\n",
              "      <td>female</td>\n",
              "      <td>0</td>\n",
              "      <td>/content/ISIC_2019_Training_Input/ISIC_0012930...</td>\n",
              "    </tr>\n",
              "    <tr>\n",
              "      <th>2</th>\n",
              "      <td>ISIC_0013184_downsampled</td>\n",
              "      <td>MEL</td>\n",
              "      <td>55.0</td>\n",
              "      <td>anterior torso</td>\n",
              "      <td>MSK4_0010029</td>\n",
              "      <td>male</td>\n",
              "      <td>0</td>\n",
              "      <td>/content/ISIC_2019_Training_Input/ISIC_0013184...</td>\n",
              "    </tr>\n",
              "    <tr>\n",
              "      <th>3</th>\n",
              "      <td>ISIC_0013232_downsampled</td>\n",
              "      <td>MEL</td>\n",
              "      <td>70.0</td>\n",
              "      <td>posterior torso</td>\n",
              "      <td>MSK4_0010026</td>\n",
              "      <td>female</td>\n",
              "      <td>0</td>\n",
              "      <td>/content/ISIC_2019_Training_Input/ISIC_0013232...</td>\n",
              "    </tr>\n",
              "    <tr>\n",
              "      <th>4</th>\n",
              "      <td>ISIC_0013274_downsampled</td>\n",
              "      <td>NV</td>\n",
              "      <td>65.0</td>\n",
              "      <td>anterior torso</td>\n",
              "      <td>MSK4_0010011</td>\n",
              "      <td>male</td>\n",
              "      <td>0</td>\n",
              "      <td>/content/ISIC_2019_Training_Input/ISIC_0013274...</td>\n",
              "    </tr>\n",
              "  </tbody>\n",
              "</table>\n",
              "</div>"
            ],
            "text/plain": [
              "                      image  ...                                         image_path\n",
              "0  ISIC_0012756_downsampled  ...  /content/ISIC_2019_Training_Input/ISIC_0012756...\n",
              "1  ISIC_0012930_downsampled  ...  /content/ISIC_2019_Training_Input/ISIC_0012930...\n",
              "2  ISIC_0013184_downsampled  ...  /content/ISIC_2019_Training_Input/ISIC_0013184...\n",
              "3  ISIC_0013232_downsampled  ...  /content/ISIC_2019_Training_Input/ISIC_0013232...\n",
              "4  ISIC_0013274_downsampled  ...  /content/ISIC_2019_Training_Input/ISIC_0013274...\n",
              "\n",
              "[5 rows x 8 columns]"
            ]
          },
          "metadata": {
            "tags": []
          },
          "execution_count": 7
        }
      ]
    },
    {
      "cell_type": "code",
      "metadata": {
        "id": "sTX5-EeXEx0x",
        "colab_type": "code",
        "outputId": "940b5dc9-c11f-44a5-d9dc-a9e8baa95072",
        "colab": {
          "base_uri": "https://localhost:8080/",
          "height": 241
        }
      },
      "source": [
        "# there are 8 target classes\n",
        "lesion_types = {\n",
        "    'NV': 'Melanocytic nevi',\n",
        "    'MEL': 'Melanoma',\n",
        "    'BKL': 'Benign keratosis-like lesions ',\n",
        "    'BCC': 'Basal cell carcinoma',\n",
        "    'AK': 'Actinic keratoses',\n",
        "    'VASC': 'Vascular lesions',\n",
        "    'DF': 'Dermatofibroma',\n",
        "    'SCC': 'Squamous cell carcinoma'}\n",
        "df_skin['type'] = df_skin['diagnosis'].map(lesion_types.get)\n",
        "\n",
        "# Converting the type to the categorical values\n",
        "df_skin['type_id'] = pd.Categorical(df_skin['type']).codes\n",
        "\n",
        "df_skin.head()"
      ],
      "execution_count": 0,
      "outputs": [
        {
          "output_type": "execute_result",
          "data": {
            "text/html": [
              "<div>\n",
              "<style scoped>\n",
              "    .dataframe tbody tr th:only-of-type {\n",
              "        vertical-align: middle;\n",
              "    }\n",
              "\n",
              "    .dataframe tbody tr th {\n",
              "        vertical-align: top;\n",
              "    }\n",
              "\n",
              "    .dataframe thead th {\n",
              "        text-align: right;\n",
              "    }\n",
              "</style>\n",
              "<table border=\"1\" class=\"dataframe\">\n",
              "  <thead>\n",
              "    <tr style=\"text-align: right;\">\n",
              "      <th></th>\n",
              "      <th>image</th>\n",
              "      <th>diagnosis</th>\n",
              "      <th>age_approx</th>\n",
              "      <th>anatom_site_general</th>\n",
              "      <th>lesion_id</th>\n",
              "      <th>sex</th>\n",
              "      <th>is_val</th>\n",
              "      <th>image_path</th>\n",
              "      <th>type</th>\n",
              "      <th>type_id</th>\n",
              "    </tr>\n",
              "  </thead>\n",
              "  <tbody>\n",
              "    <tr>\n",
              "      <th>0</th>\n",
              "      <td>ISIC_0012756_downsampled</td>\n",
              "      <td>MEL</td>\n",
              "      <td>55.0</td>\n",
              "      <td>anterior torso</td>\n",
              "      <td>MSK4_0010029</td>\n",
              "      <td>male</td>\n",
              "      <td>0</td>\n",
              "      <td>/content/ISIC_2019_Training_Input/ISIC_0012756...</td>\n",
              "      <td>Melanoma</td>\n",
              "      <td>5</td>\n",
              "    </tr>\n",
              "    <tr>\n",
              "      <th>1</th>\n",
              "      <td>ISIC_0012930_downsampled</td>\n",
              "      <td>MEL</td>\n",
              "      <td>70.0</td>\n",
              "      <td>posterior torso</td>\n",
              "      <td>MSK4_0010026</td>\n",
              "      <td>female</td>\n",
              "      <td>0</td>\n",
              "      <td>/content/ISIC_2019_Training_Input/ISIC_0012930...</td>\n",
              "      <td>Melanoma</td>\n",
              "      <td>5</td>\n",
              "    </tr>\n",
              "    <tr>\n",
              "      <th>2</th>\n",
              "      <td>ISIC_0013184_downsampled</td>\n",
              "      <td>MEL</td>\n",
              "      <td>55.0</td>\n",
              "      <td>anterior torso</td>\n",
              "      <td>MSK4_0010029</td>\n",
              "      <td>male</td>\n",
              "      <td>0</td>\n",
              "      <td>/content/ISIC_2019_Training_Input/ISIC_0013184...</td>\n",
              "      <td>Melanoma</td>\n",
              "      <td>5</td>\n",
              "    </tr>\n",
              "    <tr>\n",
              "      <th>3</th>\n",
              "      <td>ISIC_0013232_downsampled</td>\n",
              "      <td>MEL</td>\n",
              "      <td>70.0</td>\n",
              "      <td>posterior torso</td>\n",
              "      <td>MSK4_0010026</td>\n",
              "      <td>female</td>\n",
              "      <td>0</td>\n",
              "      <td>/content/ISIC_2019_Training_Input/ISIC_0013232...</td>\n",
              "      <td>Melanoma</td>\n",
              "      <td>5</td>\n",
              "    </tr>\n",
              "    <tr>\n",
              "      <th>4</th>\n",
              "      <td>ISIC_0013274_downsampled</td>\n",
              "      <td>NV</td>\n",
              "      <td>65.0</td>\n",
              "      <td>anterior torso</td>\n",
              "      <td>MSK4_0010011</td>\n",
              "      <td>male</td>\n",
              "      <td>0</td>\n",
              "      <td>/content/ISIC_2019_Training_Input/ISIC_0013274...</td>\n",
              "      <td>Melanocytic nevi</td>\n",
              "      <td>4</td>\n",
              "    </tr>\n",
              "  </tbody>\n",
              "</table>\n",
              "</div>"
            ],
            "text/plain": [
              "                      image diagnosis  ...              type type_id\n",
              "0  ISIC_0012756_downsampled       MEL  ...          Melanoma       5\n",
              "1  ISIC_0012930_downsampled       MEL  ...          Melanoma       5\n",
              "2  ISIC_0013184_downsampled       MEL  ...          Melanoma       5\n",
              "3  ISIC_0013232_downsampled       MEL  ...          Melanoma       5\n",
              "4  ISIC_0013274_downsampled        NV  ...  Melanocytic nevi       4\n",
              "\n",
              "[5 rows x 10 columns]"
            ]
          },
          "metadata": {
            "tags": []
          },
          "execution_count": 8
        }
      ]
    },
    {
      "cell_type": "code",
      "metadata": {
        "id": "iDTQLnyjDpr6",
        "colab_type": "code",
        "outputId": "2b143998-b478-4e3f-8159-92c55e8d182d",
        "colab": {
          "base_uri": "https://localhost:8080/",
          "height": 544
        }
      },
      "source": [
        "#show am example of the array of image after resizing it to (100,75) as one tenth of its original size to same computational time and RAM\n",
        "print(np.asarray(Image.open(df_skin['image_path'][0]).resize((100,75)))[:4])"
      ],
      "execution_count": 0,
      "outputs": [
        {
          "output_type": "stream",
          "text": [
            "[[[131 122 125]\n",
            "  [147 144 153]\n",
            "  [156 151 158]\n",
            "  ...\n",
            "  [ 42  42  50]\n",
            "  [ 25  26  28]\n",
            "  [ 63  64  68]]\n",
            "\n",
            " [[141 134 141]\n",
            "  [152 147 153]\n",
            "  [158 151 158]\n",
            "  ...\n",
            "  [ 18  18  20]\n",
            "  [ 20  21  23]\n",
            "  [ 16  17  22]]\n",
            "\n",
            " [[147 145 150]\n",
            "  [160 155 161]\n",
            "  [160 158 163]\n",
            "  ...\n",
            "  [126 120 120]\n",
            "  [ 25  26  28]\n",
            "  [ 20  23  28]]\n",
            "\n",
            " [[154 153 158]\n",
            "  [162 160 165]\n",
            "  [164 162 167]\n",
            "  ...\n",
            "  [143 137 139]\n",
            "  [ 35  34  48]\n",
            "  [ 18  18  20]]]\n"
          ],
          "name": "stdout"
        }
      ]
    },
    {
      "cell_type": "code",
      "metadata": {
        "id": "fcsL3N8zC3Xr",
        "colab_type": "code",
        "colab": {}
      },
      "source": [
        "# merge the csv file containing the label with the array of images after resizing them to (100,75)\n",
        "df_skin['skin_image'] = df_skin['image_path'].map(lambda x: np.asarray(Image.open(x).resize((100,75))))"
      ],
      "execution_count": 0,
      "outputs": []
    },
    {
      "cell_type": "code",
      "metadata": {
        "id": "m3-VsvwgDocJ",
        "colab_type": "code",
        "outputId": "b5ac3690-775a-401f-a77d-5fc1ecf778f5",
        "colab": {
          "base_uri": "https://localhost:8080/",
          "height": 496
        }
      },
      "source": [
        "df_skin.head()"
      ],
      "execution_count": 0,
      "outputs": [
        {
          "output_type": "execute_result",
          "data": {
            "text/html": [
              "<div>\n",
              "<style scoped>\n",
              "    .dataframe tbody tr th:only-of-type {\n",
              "        vertical-align: middle;\n",
              "    }\n",
              "\n",
              "    .dataframe tbody tr th {\n",
              "        vertical-align: top;\n",
              "    }\n",
              "\n",
              "    .dataframe thead th {\n",
              "        text-align: right;\n",
              "    }\n",
              "</style>\n",
              "<table border=\"1\" class=\"dataframe\">\n",
              "  <thead>\n",
              "    <tr style=\"text-align: right;\">\n",
              "      <th></th>\n",
              "      <th>image</th>\n",
              "      <th>diagnosis</th>\n",
              "      <th>age_approx</th>\n",
              "      <th>anatom_site_general</th>\n",
              "      <th>lesion_id</th>\n",
              "      <th>sex</th>\n",
              "      <th>is_val</th>\n",
              "      <th>image_path</th>\n",
              "      <th>type</th>\n",
              "      <th>type_id</th>\n",
              "      <th>skin_image</th>\n",
              "    </tr>\n",
              "  </thead>\n",
              "  <tbody>\n",
              "    <tr>\n",
              "      <th>0</th>\n",
              "      <td>ISIC_0012756_downsampled</td>\n",
              "      <td>MEL</td>\n",
              "      <td>55.0</td>\n",
              "      <td>anterior torso</td>\n",
              "      <td>MSK4_0010029</td>\n",
              "      <td>male</td>\n",
              "      <td>0</td>\n",
              "      <td>/content/ISIC_2019_Training_Input/ISIC_0012756...</td>\n",
              "      <td>Melanoma</td>\n",
              "      <td>5</td>\n",
              "      <td>[[[131, 122, 125], [147, 144, 153], [156, 151,...</td>\n",
              "    </tr>\n",
              "    <tr>\n",
              "      <th>1</th>\n",
              "      <td>ISIC_0012930_downsampled</td>\n",
              "      <td>MEL</td>\n",
              "      <td>70.0</td>\n",
              "      <td>posterior torso</td>\n",
              "      <td>MSK4_0010026</td>\n",
              "      <td>female</td>\n",
              "      <td>0</td>\n",
              "      <td>/content/ISIC_2019_Training_Input/ISIC_0012930...</td>\n",
              "      <td>Melanoma</td>\n",
              "      <td>5</td>\n",
              "      <td>[[[190, 162, 150], [193, 175, 165], [192, 174,...</td>\n",
              "    </tr>\n",
              "    <tr>\n",
              "      <th>2</th>\n",
              "      <td>ISIC_0013184_downsampled</td>\n",
              "      <td>MEL</td>\n",
              "      <td>55.0</td>\n",
              "      <td>anterior torso</td>\n",
              "      <td>MSK4_0010029</td>\n",
              "      <td>male</td>\n",
              "      <td>0</td>\n",
              "      <td>/content/ISIC_2019_Training_Input/ISIC_0013184...</td>\n",
              "      <td>Melanoma</td>\n",
              "      <td>5</td>\n",
              "      <td>[[[121, 114, 121], [140, 138, 151], [148, 147,...</td>\n",
              "    </tr>\n",
              "    <tr>\n",
              "      <th>3</th>\n",
              "      <td>ISIC_0013232_downsampled</td>\n",
              "      <td>MEL</td>\n",
              "      <td>70.0</td>\n",
              "      <td>posterior torso</td>\n",
              "      <td>MSK4_0010026</td>\n",
              "      <td>female</td>\n",
              "      <td>0</td>\n",
              "      <td>/content/ISIC_2019_Training_Input/ISIC_0013232...</td>\n",
              "      <td>Melanoma</td>\n",
              "      <td>5</td>\n",
              "      <td>[[[166, 125, 95], [166, 127, 94], [166, 141, 1...</td>\n",
              "    </tr>\n",
              "    <tr>\n",
              "      <th>4</th>\n",
              "      <td>ISIC_0013274_downsampled</td>\n",
              "      <td>NV</td>\n",
              "      <td>65.0</td>\n",
              "      <td>anterior torso</td>\n",
              "      <td>MSK4_0010011</td>\n",
              "      <td>male</td>\n",
              "      <td>0</td>\n",
              "      <td>/content/ISIC_2019_Training_Input/ISIC_0013274...</td>\n",
              "      <td>Melanocytic nevi</td>\n",
              "      <td>4</td>\n",
              "      <td>[[[38, 42, 54], [33, 34, 54], [65, 60, 67], [1...</td>\n",
              "    </tr>\n",
              "  </tbody>\n",
              "</table>\n",
              "</div>"
            ],
            "text/plain": [
              "                      image  ...                                         skin_image\n",
              "0  ISIC_0012756_downsampled  ...  [[[131, 122, 125], [147, 144, 153], [156, 151,...\n",
              "1  ISIC_0012930_downsampled  ...  [[[190, 162, 150], [193, 175, 165], [192, 174,...\n",
              "2  ISIC_0013184_downsampled  ...  [[[121, 114, 121], [140, 138, 151], [148, 147,...\n",
              "3  ISIC_0013232_downsampled  ...  [[[166, 125, 95], [166, 127, 94], [166, 141, 1...\n",
              "4  ISIC_0013274_downsampled  ...  [[[38, 42, 54], [33, 34, 54], [65, 60, 67], [1...\n",
              "\n",
              "[5 rows x 11 columns]"
            ]
          },
          "metadata": {
            "tags": []
          },
          "execution_count": 11
        }
      ]
    },
    {
      "cell_type": "code",
      "metadata": {
        "id": "aK23aaxsJkIm",
        "colab_type": "code",
        "colab": {}
      },
      "source": [
        "# set features and target\n",
        "features = df_skin.drop(columns=['type_id'],axis=1)\n",
        "target = df_skin['type_id']"
      ],
      "execution_count": 0,
      "outputs": []
    },
    {
      "cell_type": "code",
      "metadata": {
        "id": "tziqTuEJ4ceK",
        "colab_type": "code",
        "outputId": "0b2ddc86-f466-4962-cf6a-af9c72f16ccb",
        "colab": {
          "base_uri": "https://localhost:8080/",
          "height": 170
        }
      },
      "source": [
        "# count the number of each types of skin lesion present in the dataset\n",
        "df_skin['type_id'].value_counts()"
      ],
      "execution_count": 0,
      "outputs": [
        {
          "output_type": "execute_result",
          "data": {
            "text/plain": [
              "4    12875\n",
              "5     4522\n",
              "1     3323\n",
              "2     2624\n",
              "0      867\n",
              "6      628\n",
              "7      253\n",
              "3      239\n",
              "Name: type_id, dtype: int64"
            ]
          },
          "metadata": {
            "tags": []
          },
          "execution_count": 13
        }
      ]
    },
    {
      "cell_type": "markdown",
      "metadata": {
        "id": "eVToISFHKipa",
        "colab_type": "text"
      },
      "source": [
        "**Splitting data in 80/20 ratio**"
      ]
    },
    {
      "cell_type": "code",
      "metadata": {
        "id": "d6DCRPe7JtMC",
        "colab_type": "code",
        "outputId": "6706ee5a-17a6-45e4-f65e-c10578dfc40c",
        "colab": {
          "base_uri": "https://localhost:8080/",
          "height": 68
        }
      },
      "source": [
        "# using sklearn library to split the training and testing dataset in 80:20 ratio.\n",
        "from sklearn.model_selection import train_test_split\n",
        "X_train, X_test, y_train, y_test = train_test_split(features, target, test_size = 0.20, random_state = 101)\n",
        "print('The length of training set is {}\\nThe length of testing set is {}\\nThe ratio is {}'.format(len(X_train), len(X_test), '80/20'))"
      ],
      "execution_count": 0,
      "outputs": [
        {
          "output_type": "stream",
          "text": [
            "The length of training set is 20264\n",
            "The length of testing set is 5067\n",
            "The ratio is 80/20\n"
          ],
          "name": "stdout"
        }
      ]
    },
    {
      "cell_type": "markdown",
      "metadata": {
        "id": "N8f3sK9LKbey",
        "colab_type": "text"
      },
      "source": [
        "**Normalization**\n",
        "\n",
        "The standard score (more commonly referred to as a z-score) is calculated for normalization of each element in the array. It is a very useful statistic because it (a) allows to calculate the probability of a score occurring within the normal distribution and (b) enables to compare two scores that are from different normal distributions."
      ]
    },
    {
      "cell_type": "code",
      "metadata": {
        "id": "9OZi4KT9KXKA",
        "colab_type": "code",
        "colab": {}
      },
      "source": [
        "# Put each array of images to its respective list\n",
        "X_train = np.asarray(X_train['skin_image'].tolist())\n",
        "X_test = np.asarray(X_test['skin_image'].tolist())\n",
        "# Normalize each array by calculate normalized z score\n",
        "X_train = (X_train - X_train.mean())/X_train.std()\n",
        "X_test = (X_test - X_test.mean())/X_test.std()"
      ],
      "execution_count": 0,
      "outputs": []
    },
    {
      "cell_type": "markdown",
      "metadata": {
        "id": "L-hbNOKVLKT6",
        "colab_type": "text"
      },
      "source": [
        "One Hot Encoding\n",
        "\n",
        "The target variable will be one-hot vector encoded. This means that the target variable will be a vector of length eight with exactly seven zeros and one at the position of the target's class. [0,0,0,1,0,0,0,0] for example represents a target of class number \"3\"."
      ]
    },
    {
      "cell_type": "code",
      "metadata": {
        "id": "iK5UUA7GKu52",
        "colab_type": "code",
        "outputId": "4ebe2872-37f0-4ec1-dcac-46dce4f13f40",
        "colab": {
          "base_uri": "https://localhost:8080/",
          "height": 80
        }
      },
      "source": [
        "from keras.utils.np_utils import to_categorical"
      ],
      "execution_count": 0,
      "outputs": [
        {
          "output_type": "stream",
          "text": [
            "Using TensorFlow backend.\n"
          ],
          "name": "stderr"
        },
        {
          "output_type": "display_data",
          "data": {
            "text/html": [
              "<p style=\"color: red;\">\n",
              "The default version of TensorFlow in Colab will soon switch to TensorFlow 2.x.<br>\n",
              "We recommend you <a href=\"https://www.tensorflow.org/guide/migrate\" target=\"_blank\">upgrade</a> now \n",
              "or ensure your notebook will continue to use TensorFlow 1.x via the <code>%tensorflow_version 1.x</code> magic:\n",
              "<a href=\"https://colab.research.google.com/notebooks/tensorflow_version.ipynb\" target=\"_blank\">more info</a>.</p>\n"
            ],
            "text/plain": [
              "<IPython.core.display.HTML object>"
            ]
          },
          "metadata": {
            "tags": []
          }
        }
      ]
    },
    {
      "cell_type": "code",
      "metadata": {
        "id": "u8vE_5_eK2mN",
        "colab_type": "code",
        "colab": {}
      },
      "source": [
        "y_train = to_categorical(y_train, num_classes= 8)\n",
        "y_test = to_categorical(y_test, num_classes= 8)"
      ],
      "execution_count": 0,
      "outputs": []
    },
    {
      "cell_type": "code",
      "metadata": {
        "id": "OKAW_JdFLAVu",
        "colab_type": "code",
        "outputId": "310ab448-45c6-4db8-9588-cb9e6c543b91",
        "colab": {
          "base_uri": "https://localhost:8080/",
          "height": 170
        }
      },
      "source": [
        "y_test[:9]"
      ],
      "execution_count": 0,
      "outputs": [
        {
          "output_type": "execute_result",
          "data": {
            "text/plain": [
              "array([[0., 0., 0., 0., 1., 0., 0., 0.],\n",
              "       [0., 0., 0., 0., 0., 1., 0., 0.],\n",
              "       [0., 0., 0., 0., 1., 0., 0., 0.],\n",
              "       [0., 0., 0., 0., 0., 1., 0., 0.],\n",
              "       [0., 0., 0., 0., 1., 0., 0., 0.],\n",
              "       [0., 0., 0., 0., 0., 1., 0., 0.],\n",
              "       [0., 0., 1., 0., 0., 0., 0., 0.],\n",
              "       [0., 1., 0., 0., 0., 0., 0., 0.],\n",
              "       [0., 0., 1., 0., 0., 0., 0., 0.]], dtype=float32)"
            ]
          },
          "metadata": {
            "tags": []
          },
          "execution_count": 18
        }
      ]
    },
    {
      "cell_type": "code",
      "metadata": {
        "id": "tt6ZO5bX5tbP",
        "colab_type": "code",
        "outputId": "b489b432-9213-41df-ee66-b5e05393382c",
        "colab": {
          "base_uri": "https://localhost:8080/",
          "height": 51
        }
      },
      "source": [
        "print(X_train.shape)\n",
        "print(X_test.shape)"
      ],
      "execution_count": 0,
      "outputs": [
        {
          "output_type": "stream",
          "text": [
            "(20264, 75, 100, 3)\n",
            "(5067, 75, 100, 3)\n"
          ],
          "name": "stdout"
        }
      ]
    },
    {
      "cell_type": "markdown",
      "metadata": {
        "id": "yXJC_HJoLT1a",
        "colab_type": "text"
      },
      "source": [
        "**Proposed model - 3 layer standard CNN**"
      ]
    },
    {
      "cell_type": "code",
      "metadata": {
        "id": "SVXd7bagLOzZ",
        "colab_type": "code",
        "colab": {}
      },
      "source": [
        "# import keras library\n",
        "import keras\n",
        "from keras.models import Model, Sequential\n",
        "from keras.layers import Conv2D\n",
        "from keras.layers import Dense, Flatten, Input, AveragePooling2D, Activation,GlobalAveragePooling2D\n",
        "from keras.optimizers import Adam\n",
        "from keras import regularizers, initializers\n",
        "from keras.layers.advanced_activations import ReLU, Softmax\n",
        "from keras.preprocessing.image import ImageDataGenerator\n",
        "from keras.utils import plot_model\n",
        "from keras.models import load_model"
      ],
      "execution_count": 0,
      "outputs": []
    },
    {
      "cell_type": "code",
      "metadata": {
        "id": "mg1PXl0cD6rN",
        "colab_type": "code",
        "outputId": "6f68a981-acb1-43ee-db20-c079cfe5dbac",
        "colab": {
          "base_uri": "https://localhost:8080/",
          "height": 581
        }
      },
      "source": [
        "# build the standard 3 layer CNN by adding each layer up via Sequential function \n",
        "model = Sequential()\n",
        "# the first layer is built with a convolutional 2D layer with 32 filters and kernel size of (3,3) using ReLU as activation function. Average pooling with size (2,2) is used to downsample the layer.\n",
        "model.add(Conv2D(32, kernel_size= (3,3), activation= 'relu', padding= 'Same', input_shape = (75, 100, 3)))\n",
        "model.add(AveragePooling2D(pool_size= (2, 2)))\n",
        "\n",
        "# the second and third layers are built with convolutional 2D layers with 64 filters and the rest is the same as the first layer.\n",
        "model.add(Conv2D(64, kernel_size= (3,3), activation= 'relu', padding= 'Same'))\n",
        "model.add(AveragePooling2D(pool_size= (2, 2)))\n",
        "\n",
        "model.add(Conv2D(64, kernel_size= (3,3), activation= 'relu', padding= 'Same'))\n",
        "\n",
        "# the model is then flattened and a dense layer with ReLU activation function added to reduce and condense the dimension.\n",
        "model.add(Flatten())\n",
        "model.add(Dense(128, activation= 'relu'))\n",
        "\n",
        "# final layer uses a dense function to condense the output to the number of classification classes with use of softmax activation.\n",
        "model.add(Dense(8, activation= 'softmax'))\n",
        "model.summary()"
      ],
      "execution_count": 0,
      "outputs": [
        {
          "output_type": "stream",
          "text": [
            "WARNING:tensorflow:From /usr/local/lib/python3.6/dist-packages/keras/backend/tensorflow_backend.py:66: The name tf.get_default_graph is deprecated. Please use tf.compat.v1.get_default_graph instead.\n",
            "\n",
            "WARNING:tensorflow:From /usr/local/lib/python3.6/dist-packages/keras/backend/tensorflow_backend.py:541: The name tf.placeholder is deprecated. Please use tf.compat.v1.placeholder instead.\n",
            "\n",
            "WARNING:tensorflow:From /usr/local/lib/python3.6/dist-packages/keras/backend/tensorflow_backend.py:4432: The name tf.random_uniform is deprecated. Please use tf.random.uniform instead.\n",
            "\n",
            "WARNING:tensorflow:From /usr/local/lib/python3.6/dist-packages/keras/backend/tensorflow_backend.py:4271: The name tf.nn.avg_pool is deprecated. Please use tf.nn.avg_pool2d instead.\n",
            "\n",
            "Model: \"sequential_1\"\n",
            "_________________________________________________________________\n",
            "Layer (type)                 Output Shape              Param #   \n",
            "=================================================================\n",
            "conv2d_1 (Conv2D)            (None, 75, 100, 32)       896       \n",
            "_________________________________________________________________\n",
            "average_pooling2d_1 (Average (None, 37, 50, 32)        0         \n",
            "_________________________________________________________________\n",
            "conv2d_2 (Conv2D)            (None, 37, 50, 64)        18496     \n",
            "_________________________________________________________________\n",
            "average_pooling2d_2 (Average (None, 18, 25, 64)        0         \n",
            "_________________________________________________________________\n",
            "conv2d_3 (Conv2D)            (None, 18, 25, 64)        36928     \n",
            "_________________________________________________________________\n",
            "flatten_1 (Flatten)          (None, 28800)             0         \n",
            "_________________________________________________________________\n",
            "dense_1 (Dense)              (None, 128)               3686528   \n",
            "_________________________________________________________________\n",
            "dense_2 (Dense)              (None, 8)                 1032      \n",
            "=================================================================\n",
            "Total params: 3,743,880\n",
            "Trainable params: 3,743,880\n",
            "Non-trainable params: 0\n",
            "_________________________________________________________________\n"
          ],
          "name": "stdout"
        }
      ]
    },
    {
      "cell_type": "code",
      "metadata": {
        "id": "4uH-tjL-LiNo",
        "colab_type": "code",
        "outputId": "70054870-a9a1-4208-b545-20a206845374",
        "colab": {
          "base_uri": "https://localhost:8080/",
          "height": 1000
        }
      },
      "source": [
        "# To compile to model:\n",
        "# Adam optimizer is used\n",
        "# Since one-hot-ecoded vectors are used, the categorical cross entropy is used as loss and the metric is set to be top-1 accuracy\n",
        "model.compile(Adam(), loss = 'categorical_crossentropy', metrics = ['accuracy'])\n",
        "\n",
        "# For each episode the input data is shuffled to create a different order for the inputs\n",
        "# Batch size is set to be 32 meaning that there are 32 samples fed into the model per gradient update.\n",
        "# 50 epochs mean that the model will be trained and iterated on the dataset for 50 times.\n",
        "mod = model.fit(x = X_train, y = y_train, batch_size=32, shuffle=True, epochs= 50)"
      ],
      "execution_count": 0,
      "outputs": [
        {
          "output_type": "stream",
          "text": [
            "WARNING:tensorflow:From /usr/local/lib/python3.6/dist-packages/keras/optimizers.py:793: The name tf.train.Optimizer is deprecated. Please use tf.compat.v1.train.Optimizer instead.\n",
            "\n",
            "WARNING:tensorflow:From /usr/local/lib/python3.6/dist-packages/keras/backend/tensorflow_backend.py:3576: The name tf.log is deprecated. Please use tf.math.log instead.\n",
            "\n",
            "WARNING:tensorflow:From /usr/local/lib/python3.6/dist-packages/tensorflow_core/python/ops/math_grad.py:1424: where (from tensorflow.python.ops.array_ops) is deprecated and will be removed in a future version.\n",
            "Instructions for updating:\n",
            "Use tf.where in 2.0, which has the same broadcast rule as np.where\n",
            "WARNING:tensorflow:From /usr/local/lib/python3.6/dist-packages/keras/backend/tensorflow_backend.py:1033: The name tf.assign_add is deprecated. Please use tf.compat.v1.assign_add instead.\n",
            "\n",
            "WARNING:tensorflow:From /usr/local/lib/python3.6/dist-packages/keras/backend/tensorflow_backend.py:1020: The name tf.assign is deprecated. Please use tf.compat.v1.assign instead.\n",
            "\n",
            "WARNING:tensorflow:From /usr/local/lib/python3.6/dist-packages/keras/backend/tensorflow_backend.py:3005: The name tf.Session is deprecated. Please use tf.compat.v1.Session instead.\n",
            "\n",
            "Epoch 1/50\n",
            "WARNING:tensorflow:From /usr/local/lib/python3.6/dist-packages/keras/backend/tensorflow_backend.py:190: The name tf.get_default_session is deprecated. Please use tf.compat.v1.get_default_session instead.\n",
            "\n",
            "WARNING:tensorflow:From /usr/local/lib/python3.6/dist-packages/keras/backend/tensorflow_backend.py:197: The name tf.ConfigProto is deprecated. Please use tf.compat.v1.ConfigProto instead.\n",
            "\n",
            "WARNING:tensorflow:From /usr/local/lib/python3.6/dist-packages/keras/backend/tensorflow_backend.py:207: The name tf.global_variables is deprecated. Please use tf.compat.v1.global_variables instead.\n",
            "\n",
            "WARNING:tensorflow:From /usr/local/lib/python3.6/dist-packages/keras/backend/tensorflow_backend.py:216: The name tf.is_variable_initialized is deprecated. Please use tf.compat.v1.is_variable_initialized instead.\n",
            "\n",
            "WARNING:tensorflow:From /usr/local/lib/python3.6/dist-packages/keras/backend/tensorflow_backend.py:223: The name tf.variables_initializer is deprecated. Please use tf.compat.v1.variables_initializer instead.\n",
            "\n",
            "20264/20264 [==============================] - 37s 2ms/step - loss: 1.1788 - acc: 0.5793\n",
            "Epoch 2/50\n",
            "20264/20264 [==============================] - 26s 1ms/step - loss: 1.0378 - acc: 0.6247\n",
            "Epoch 3/50\n",
            "20264/20264 [==============================] - 26s 1ms/step - loss: 0.9367 - acc: 0.6594\n",
            "Epoch 4/50\n",
            "20264/20264 [==============================] - 27s 1ms/step - loss: 0.8008 - acc: 0.7067\n",
            "Epoch 5/50\n",
            "20264/20264 [==============================] - 27s 1ms/step - loss: 0.6247 - acc: 0.7733\n",
            "Epoch 6/50\n",
            "20264/20264 [==============================] - 27s 1ms/step - loss: 0.4284 - acc: 0.8477\n",
            "Epoch 7/50\n",
            "20264/20264 [==============================] - 27s 1ms/step - loss: 0.2537 - acc: 0.9111\n",
            "Epoch 8/50\n",
            "20264/20264 [==============================] - 27s 1ms/step - loss: 0.1505 - acc: 0.9486\n",
            "Epoch 9/50\n",
            "20264/20264 [==============================] - 27s 1ms/step - loss: 0.1132 - acc: 0.9646\n",
            "Epoch 10/50\n",
            "20264/20264 [==============================] - 27s 1ms/step - loss: 0.0770 - acc: 0.9749\n",
            "Epoch 11/50\n",
            "20264/20264 [==============================] - 27s 1ms/step - loss: 0.0638 - acc: 0.9798\n",
            "Epoch 12/50\n",
            "20264/20264 [==============================] - 27s 1ms/step - loss: 0.0528 - acc: 0.9836\n",
            "Epoch 13/50\n",
            "20264/20264 [==============================] - 27s 1ms/step - loss: 0.0469 - acc: 0.9855\n",
            "Epoch 14/50\n",
            "20264/20264 [==============================] - 27s 1ms/step - loss: 0.0485 - acc: 0.9846\n",
            "Epoch 15/50\n",
            "20264/20264 [==============================] - 27s 1ms/step - loss: 0.0544 - acc: 0.9838\n",
            "Epoch 16/50\n",
            "20264/20264 [==============================] - 27s 1ms/step - loss: 0.0438 - acc: 0.9861\n",
            "Epoch 17/50\n",
            "20264/20264 [==============================] - 27s 1ms/step - loss: 0.0277 - acc: 0.9918\n",
            "Epoch 18/50\n",
            "20264/20264 [==============================] - 27s 1ms/step - loss: 0.0231 - acc: 0.9930\n",
            "Epoch 19/50\n",
            "20264/20264 [==============================] - 27s 1ms/step - loss: 0.0441 - acc: 0.9861\n",
            "Epoch 20/50\n",
            "20264/20264 [==============================] - 27s 1ms/step - loss: 0.0491 - acc: 0.9844\n",
            "Epoch 21/50\n",
            "20264/20264 [==============================] - 26s 1ms/step - loss: 0.0289 - acc: 0.9918\n",
            "Epoch 22/50\n",
            "20264/20264 [==============================] - 26s 1ms/step - loss: 0.0187 - acc: 0.9942\n",
            "Epoch 23/50\n",
            "20264/20264 [==============================] - 27s 1ms/step - loss: 0.0318 - acc: 0.9902\n",
            "Epoch 24/50\n",
            "20264/20264 [==============================] - 26s 1ms/step - loss: 0.0342 - acc: 0.9901\n",
            "Epoch 25/50\n",
            "20264/20264 [==============================] - 26s 1ms/step - loss: 0.0240 - acc: 0.9939\n",
            "Epoch 26/50\n",
            "20264/20264 [==============================] - 27s 1ms/step - loss: 0.0383 - acc: 0.9887\n",
            "Epoch 27/50\n",
            "20264/20264 [==============================] - 27s 1ms/step - loss: 0.0297 - acc: 0.9913\n",
            "Epoch 28/50\n",
            "20264/20264 [==============================] - 26s 1ms/step - loss: 0.0146 - acc: 0.9958\n",
            "Epoch 29/50\n",
            "20264/20264 [==============================] - 27s 1ms/step - loss: 0.0338 - acc: 0.9900\n",
            "Epoch 30/50\n",
            "20264/20264 [==============================] - 26s 1ms/step - loss: 0.0123 - acc: 0.9962\n",
            "Epoch 31/50\n",
            "20264/20264 [==============================] - 26s 1ms/step - loss: 0.0258 - acc: 0.9929\n",
            "Epoch 32/50\n",
            "20264/20264 [==============================] - 26s 1ms/step - loss: 0.0399 - acc: 0.9893\n",
            "Epoch 33/50\n",
            "20264/20264 [==============================] - 26s 1ms/step - loss: 0.0169 - acc: 0.9954\n",
            "Epoch 34/50\n",
            "20264/20264 [==============================] - 27s 1ms/step - loss: 0.0312 - acc: 0.9919\n",
            "Epoch 35/50\n",
            "20264/20264 [==============================] - 27s 1ms/step - loss: 0.0213 - acc: 0.9943\n",
            "Epoch 36/50\n",
            "20264/20264 [==============================] - 27s 1ms/step - loss: 0.0217 - acc: 0.9934\n",
            "Epoch 37/50\n",
            "20264/20264 [==============================] - 26s 1ms/step - loss: 0.0142 - acc: 0.9962\n",
            "Epoch 38/50\n",
            "20264/20264 [==============================] - 26s 1ms/step - loss: 0.0102 - acc: 0.9969\n",
            "Epoch 39/50\n",
            "20264/20264 [==============================] - 26s 1ms/step - loss: 0.0094 - acc: 0.9974\n",
            "Epoch 40/50\n",
            "20264/20264 [==============================] - 26s 1ms/step - loss: 0.0440 - acc: 0.9880\n",
            "Epoch 41/50\n",
            "20264/20264 [==============================] - 26s 1ms/step - loss: 0.0214 - acc: 0.9943\n",
            "Epoch 42/50\n",
            "20264/20264 [==============================] - 26s 1ms/step - loss: 0.0192 - acc: 0.9945\n",
            "Epoch 43/50\n",
            "20264/20264 [==============================] - 26s 1ms/step - loss: 0.0087 - acc: 0.9973\n",
            "Epoch 44/50\n",
            "20264/20264 [==============================] - 26s 1ms/step - loss: 0.0235 - acc: 0.9939\n",
            "Epoch 45/50\n",
            "20264/20264 [==============================] - 26s 1ms/step - loss: 0.0201 - acc: 0.9946\n",
            "Epoch 46/50\n",
            "20264/20264 [==============================] - 26s 1ms/step - loss: 0.0230 - acc: 0.9940\n",
            "Epoch 47/50\n",
            "20264/20264 [==============================] - 26s 1ms/step - loss: 0.0241 - acc: 0.9941\n",
            "Epoch 48/50\n",
            "20264/20264 [==============================] - 26s 1ms/step - loss: 0.0184 - acc: 0.9946\n",
            "Epoch 49/50\n",
            "20264/20264 [==============================] - 26s 1ms/step - loss: 0.0135 - acc: 0.9963\n",
            "Epoch 50/50\n",
            "20264/20264 [==============================] - 26s 1ms/step - loss: 0.0111 - acc: 0.9971\n"
          ],
          "name": "stdout"
        }
      ]
    },
    {
      "cell_type": "code",
      "metadata": {
        "id": "xQsav3WJL3Rc",
        "colab_type": "code",
        "outputId": "f4d1e011-b573-4b5b-a39c-cc373297cedf",
        "colab": {
          "base_uri": "https://localhost:8080/",
          "height": 976
        }
      },
      "source": [
        "# plot_model function is used to visualize the model\n",
        "plot_model(model, to_file='simple_model_plot.png', show_shapes=True, show_layer_names=True)"
      ],
      "execution_count": 0,
      "outputs": [
        {
          "output_type": "execute_result",
          "data": {
            "image/png": "[encoded data removed]",
            "text/plain": [
              "<IPython.core.display.Image object>"
            ]
          },
          "metadata": {
            "tags": []
          },
          "execution_count": 23
        }
      ]
    },
    {
      "cell_type": "code",
      "metadata": {
        "id": "A0aInYjhPloe",
        "colab_type": "code",
        "colab": {}
      },
      "source": [
        "model.save('skin.cr')"
      ],
      "execution_count": 0,
      "outputs": []
    },
    {
      "cell_type": "markdown",
      "metadata": {
        "id": "tffHmxn_QmWz",
        "colab_type": "text"
      },
      "source": [
        "**Evaluation**"
      ]
    },
    {
      "cell_type": "code",
      "metadata": {
        "id": "Fub9H2xbSWmD",
        "colab_type": "code",
        "outputId": "b3ffad59-7a33-4067-f7ee-8f660e29f543",
        "colab": {
          "base_uri": "https://localhost:8080/",
          "height": 68
        }
      },
      "source": [
        "# Evaluate the accuracy and loss of the model on test dataset\n",
        "# https://keras.io/models/model/#evaluate\n",
        "loss,acc = model.evaluate(X_test, y_test)\n",
        "print(\"The accuracy of the model is {:.3f}\\nThe loss in the model is {:.3f}\".format(acc,loss))"
      ],
      "execution_count": 0,
      "outputs": [
        {
          "output_type": "stream",
          "text": [
            "5067/5067 [==============================] - 3s 618us/step\n",
            "The accuracy of the model is 0.602\n",
            "The loss in the model is 4.420\n"
          ],
          "name": "stdout"
        }
      ]
    },
    {
      "cell_type": "markdown",
      "metadata": {
        "id": "BFAL-snlYf7a",
        "colab_type": "text"
      },
      "source": [
        "**The subsequent evaluation is not reflected in the report because this CNN model is not the top-performing one.**\n",
        "\n",
        "It is left in the code just in case you are interested."
      ]
    },
    {
      "cell_type": "code",
      "metadata": {
        "id": "2z4vZMrtP6gx",
        "colab_type": "code",
        "colab": {}
      },
      "source": [
        "import itertools\n",
        "from sklearn.metrics import confusion_matrix, classification_report\n",
        "model = load_model('skin.cr')"
      ],
      "execution_count": 0,
      "outputs": []
    },
    {
      "cell_type": "code",
      "metadata": {
        "id": "AU9oQ3DT_iIY",
        "colab_type": "code",
        "colab": {}
      },
      "source": [
        "# Function to plot confusion matrix\n",
        "# Taken from https://scikit-learn.org/stable/auto_examples/model_selection/plot_confusion_matrix.html\n",
        "def plot_confusion_matrix_normalized(cm, classes,\n",
        "                          normalize=True,\n",
        "                          title='Normalized confusion matrix',\n",
        "                          cmap=plt.cm.Blues):\n",
        "    # compute confusion matrix - this function plots normalized confusion matrix\n",
        "    cm = cm.astype('float') / cm.sum(axis=1)[:, np.newaxis]\n",
        "\n",
        "\n",
        "    plt.imshow(cm, interpolation='nearest', cmap=cmap)\n",
        "    plt.title(title)\n",
        "    plt.colorbar()\n",
        "    tick_marks = np.arange(len(classes))\n",
        "    # All ticks are shown\n",
        "    plt.xticks(tick_marks, classes, rotation=45)\n",
        "    plt.yticks(tick_marks, classes)\n",
        "    \n",
        "    # Loop over data dimensions and create text annotations.\n",
        "    fmt = '.2f' if normalize else 'd'\n",
        "    thresh = cm.max() / 2.\n",
        "    for i, j in itertools.product(range(cm.shape[0]), range(cm.shape[1])):\n",
        "        plt.text(j, i, format(cm[i, j], fmt),\n",
        "                 horizontalalignment=\"center\",\n",
        "                 color=\"white\" if cm[i, j] > thresh else \"black\")\n",
        "\n",
        "    # Put respective labels on the plot\n",
        "    plt.ylabel('True label')\n",
        "    plt.xlabel('Predicted label')\n",
        "    plt.tight_layout()\n",
        "    plt.grid(None)"
      ],
      "execution_count": 0,
      "outputs": []
    },
    {
      "cell_type": "code",
      "metadata": {
        "id": "aIswheerg_-Y",
        "colab_type": "code",
        "colab": {}
      },
      "source": [
        "# this function shows non-normalized confusion matrix\n",
        "def plot_confusion_matrix_nonnormalized(cm, classes,\n",
        "                          normalize=False,\n",
        "                          title='Non-normalized confusion matrix',\n",
        "                          cmap=plt.cm.Blues):\n",
        "\n",
        "    plt.imshow(cm, interpolation='nearest', cmap=cmap)\n",
        "    plt.title(title)\n",
        "    plt.colorbar()\n",
        "    tick_marks = np.arange(len(classes))\n",
        "    plt.xticks(tick_marks, classes, rotation=45)\n",
        "    plt.yticks(tick_marks, classes)\n",
        "\n",
        "    fmt = '.2f' if normalize else 'd'\n",
        "    thresh = cm.max() / 2.\n",
        "    for i, j in itertools.product(range(cm.shape[0]), range(cm.shape[1])):\n",
        "        plt.text(j, i, format(cm[i, j], fmt),\n",
        "                 horizontalalignment=\"center\",\n",
        "                 color=\"white\" if cm[i, j] > thresh else \"black\")\n",
        "\n",
        "    plt.ylabel('True label')\n",
        "    plt.xlabel('Predicted label')\n",
        "    plt.tight_layout()\n",
        "    plt.grid(None)"
      ],
      "execution_count": 0,
      "outputs": []
    },
    {
      "cell_type": "code",
      "metadata": {
        "id": "XBk2E0CcfZbL",
        "colab_type": "code",
        "colab": {}
      },
      "source": [
        "# Using the model to generate predictions\n",
        "predictions = model.predict(X_test)\n",
        "# Predictions are converted to one hot vectors.\n",
        "y_pred = np.argmax(predictions,axis = 1) "
      ],
      "execution_count": 0,
      "outputs": []
    },
    {
      "cell_type": "code",
      "metadata": {
        "id": "ND3-D2cSEAdv",
        "colab_type": "code",
        "colab": {}
      },
      "source": [
        "# Target label is converted to one hot vectors\n",
        "y_true = np.argmax(y_test,1)"
      ],
      "execution_count": 0,
      "outputs": []
    },
    {
      "cell_type": "code",
      "metadata": {
        "id": "O_4F_LDz_2Xi",
        "colab_type": "code",
        "outputId": "65718a40-71e4-4ee4-afc3-946babfc6b20",
        "colab": {
          "base_uri": "https://localhost:8080/",
          "height": 605
        }
      },
      "source": [
        "cm = confusion_matrix(y_true, y_pred)\n",
        "classes = ['AK','BCC','BKL','DF','NV','MEL','SCC','VASC']\n",
        "\n",
        "# Plot non-normalized confusion matrix\n",
        "plot_confusion_matrix_nonnormalized(cm, classes)\n",
        "plt.show()\n",
        "\n",
        "# Plot normalized confusion matrix\n",
        "plot_confusion_matrix_normalized(cm, classes)\n",
        "plt.show()"
      ],
      "execution_count": 0,
      "outputs": [
        {
          "output_type": "display_data",
          "data": {
            "image/png": "[encoded data removed]",
            "text/plain": [
              "<Figure size 432x288 with 2 Axes>"
            ]
          },
          "metadata": {
            "tags": []
          }
        },
        {
          "output_type": "display_data",
          "data": {
            "image/png": "[encoded data removed]",
            "text/plain": [
              "<Figure size 432x288 with 2 Axes>"
            ]
          },
          "metadata": {
            "tags": []
          }
        }
      ]
    },
    {
      "cell_type": "code",
      "metadata": {
        "id": "Wa3y-K1SGYZy",
        "colab_type": "code",
        "outputId": "40b29845-d59d-4a19-f23e-1dd4be1c3096",
        "colab": {
          "base_uri": "https://localhost:8080/",
          "height": 272
        }
      },
      "source": [
        "# Generate classification report to evaluate the model\n",
        "report = classification_report(y_true, y_pred, target_names=classes)\n",
        "print(report)"
      ],
      "execution_count": 0,
      "outputs": [
        {
          "output_type": "stream",
          "text": [
            "              precision    recall  f1-score   support\n",
            "\n",
            "          AK       0.26      0.19      0.22       181\n",
            "         BCC       0.53      0.45      0.49       694\n",
            "         BKL       0.34      0.20      0.25       563\n",
            "          DF       0.32      0.23      0.27        39\n",
            "          NV       0.71      0.86      0.78      2498\n",
            "         MEL       0.47      0.44      0.45       909\n",
            "         SCC       0.30      0.17      0.22       123\n",
            "        VASC       0.55      0.35      0.43        60\n",
            "\n",
            "    accuracy                           0.60      5067\n",
            "   macro avg       0.43      0.36      0.39      5067\n",
            "weighted avg       0.57      0.60      0.58      5067\n",
            "\n"
          ],
          "name": "stdout"
        }
      ]
    },
    {
      "cell_type": "markdown",
      "metadata": {
        "id": "jdkX2hS4Ur8q",
        "colab_type": "text"
      },
      "source": [
        "- Precision: the ability of a classiifer not to label an \n",
        "instance positive that is actually negative. Aka for all instances classified positive, what percent was correct?\n",
        "- Recall: the ability of a classifier to find all positive instances. Aka for all instances that were actually positive, what percent was classified correctly?\n",
        "- f1-score: a weighted harmonic mean of precision and recall such that the best score is 1.0 and the worst is 0.0.\n",
        "- Support is the number of actual occurrences of the class in the specified dataset. Imbalanced support in the training data may indicate structural weaknesses in the reported scores of the classifier and could indicate the need for stratified sampling or rebalancing. Support doesn’t change between models but instead diagnoses the evaluation process."
      ]
    },
    {
      "cell_type": "markdown",
      "metadata": {
        "id": "YCwBE06DLINd",
        "colab_type": "text"
      },
      "source": [
        "**Case specific evaluation**\n",
        "\n",
        "Further evaluation is conducted on the binary classification performance of the model. \n",
        "\n",
        "Class 1 (basal cell carcinoma), 5 (melanoma) and 6 (squamous cell carcinoma) are cancerous, where class 5 (melanoma) is especially dangerous. \n",
        "\n",
        "Therefore, one metric will calculate the performance in distinguishing all forms of cancer from the rest; and the second metric will evaluate the distinction between melanoma from the rest 7 lesions.\n",
        "\n",
        "The code for this evaluation method is adapted from https://github.com/pegahbyte/deep_learning_image_classification/blob/master/SkinCancerClassification_Project.ipynb"
      ]
    },
    {
      "cell_type": "code",
      "metadata": {
        "id": "kDMoik63XRwg",
        "colab_type": "code",
        "colab": {}
      },
      "source": [
        "def cancer_detection(model, threshold=0.5):\n",
        "    '''This function returns the confusion matrix for\n",
        "    binary cancer detection for a given model and threshold'''\n",
        "    \n",
        "    # Define target 1,5 and 6 as dangerous cancer lesions\n",
        "    # and the other 5 groups as benign\n",
        "    y_true=[1 if np.argmax(y_test[i]) in [1,5,6] else 0 for i in range(len(y_test))]\n",
        "    # Predict the values from the test dataset\n",
        "    y_pred = model.predict(X_test)\n",
        "    y_pred=[1 if y_pred[i][1]+y_pred[i][5]+y_pred[i][6] > threshold else 0 for i in range(len(y_test))]\n",
        "    confusion_mtrx=confusion_matrix(y_true,y_pred)\n",
        "    return(confusion_mtrx)  \n",
        "\n",
        "def melanoma_detection(model, threshold=0.5):\n",
        "    '''This function returns the confusion matrix for\n",
        "    binary melanom detection for a given model and threshold'''\n",
        "    # Define target 5 as melanoma lesions\n",
        "    # and the other 7 groups as non-melanoma lesions\n",
        "    y_true=[1 if np.argmax(y_test[i]) in [5] else 0 for i in range(len(y_test))]\n",
        "    # Predict the values from the test dataset\n",
        "    y_pred = model.predict(X_test)\n",
        "    y_pred=[1 if y_pred[i][5] > threshold else 0 for i in range(len(y_test))]\n",
        "    confusion_mtrx=confusion_matrix(y_true,y_pred)\n",
        "    return(confusion_mtrx)"
      ],
      "execution_count": 0,
      "outputs": []
    },
    {
      "cell_type": "markdown",
      "metadata": {
        "id": "jrYNfISQVF4F",
        "colab_type": "text"
      },
      "source": [
        "Cancer detection"
      ]
    },
    {
      "cell_type": "code",
      "metadata": {
        "id": "TRZM3kcdTDfl",
        "colab_type": "code",
        "outputId": "3dbf2b75-0d84-4d32-ff10-26815c0b648c",
        "colab": {
          "base_uri": "https://localhost:8080/",
          "height": 51
        }
      },
      "source": [
        "# generate cancer detection confusion matrix\n",
        "model_cd = cancer_detection(model)\n",
        "print(model_cd)"
      ],
      "execution_count": 0,
      "outputs": [
        {
          "output_type": "stream",
          "text": [
            "[[2786  555]\n",
            " [ 765  961]]\n"
          ],
          "name": "stdout"
        }
      ]
    },
    {
      "cell_type": "code",
      "metadata": {
        "id": "vHtVcQ2cUekT",
        "colab_type": "code",
        "outputId": "34e73327-ba7c-4994-f244-de4c43174789",
        "colab": {
          "base_uri": "https://localhost:8080/",
          "height": 51
        }
      },
      "source": [
        "# calculate binary accuracy, false positive rate and false negative rate.\n",
        "acccd=(model_cd[0,0]+model_cd[1,1])/(sum(sum(model_cd)))\n",
        "fncd=model_cd[1,0]/sum(model_cd)[1]\n",
        "fpcd=model_cd[0,1]/sum(model_cd)[0]\n",
        "print(\"For the model, the cancer binary-accuracy is\", acccd, \"\\nThe false positive rate is\", fpcd,\"and the false negative rate is\",\n",
        "     fncd)"
      ],
      "execution_count": 0,
      "outputs": [
        {
          "output_type": "stream",
          "text": [
            "For the model, the cancer binary-accuracy is 0.7394908229721728 \n",
            "The false positive rate is 0.1562940016896649 and the false negative rate is 0.5046174142480211\n"
          ],
          "name": "stdout"
        }
      ]
    },
    {
      "cell_type": "markdown",
      "metadata": {
        "id": "YuOnmcX2VIME",
        "colab_type": "text"
      },
      "source": [
        "Melanoma detection"
      ]
    },
    {
      "cell_type": "code",
      "metadata": {
        "id": "7FPXuUrsU-rJ",
        "colab_type": "code",
        "outputId": "86af270e-34c8-4546-95e2-745437791a14",
        "colab": {
          "base_uri": "https://localhost:8080/",
          "height": 85
        }
      },
      "source": [
        "# generate melanoma detection confusion matrix\n",
        "model_md = melanoma_detection(model)\n",
        "print(model_md)\n",
        "# calculate binary accuracy, false positive rate and false negative rate.\n",
        "accmd=(model_md[0,0]+model_md[1,1])/(sum(sum(model_md)))\n",
        "fnmd=model_md[1,0]/sum(model_md)[1]\n",
        "fpmd=model_md[0,1]/sum(model_md)[0]\n",
        "print(\"For the model, the melanoma binary-accuracy is\", accmd, \"\\nThe false positive rate is\", fpmd,\"and the false negative rate is\",\n",
        "     fnmd)"
      ],
      "execution_count": 0,
      "outputs": [
        {
          "output_type": "stream",
          "text": [
            "[[3706  452]\n",
            " [ 512  397]]\n",
            "For the model, the melanoma binary-accuracy is 0.8097493585948293 \n",
            "The false positive rate is 0.10715979137031768 and the false negative rate is 0.6030624263839811\n"
          ],
          "name": "stdout"
        }
      ]
    },
    {
      "cell_type": "markdown",
      "metadata": {
        "id": "B1R5GbooWCPP",
        "colab_type": "text"
      },
      "source": [
        "**Adaptive threshold**\n",
        "\n",
        "Changing the threshold for cancer detection and see its effects."
      ]
    },
    {
      "cell_type": "code",
      "metadata": {
        "id": "9SDvnwVPVxVi",
        "colab_type": "code",
        "colab": {}
      },
      "source": [
        "thresholds=np.arange(0, 1, 0.05)\n",
        "resultsFN=[]\n",
        "resultsFP=[]\n",
        "costs=[]\n",
        "for t in thresholds:\n",
        "    results=cancer_detection(model, t)\n",
        "    resultsFN.append(results[1,0])\n",
        "    resultsFP.append(results[0,1])"
      ],
      "execution_count": 0,
      "outputs": []
    },
    {
      "cell_type": "code",
      "metadata": {
        "id": "m2U5FxjJVflC",
        "colab_type": "code",
        "outputId": "1eedcce4-9f1f-43ea-9d5e-a0f1caf13346",
        "colab": {
          "base_uri": "https://localhost:8080/",
          "height": 310
        }
      },
      "source": [
        "# plot misclassification number against threshold value\n",
        "plt.plot(thresholds,resultsFN, label=\"False Negative\")\n",
        "plt.plot(thresholds,resultsFP, label=\"False Positive\")\n",
        "plt.xlabel('Threshold')\n",
        "plt.ylabel('Misclassification number')\n",
        "plt.legend()\n",
        "plt.title(\"Test Set Misclassifications \\nDepending on Threshold Value\");"
      ],
      "execution_count": 0,
      "outputs": [
        {
          "output_type": "display_data",
          "data": {
            "image/png": "[encoded data removed]",
            "text/plain": [
              "<Figure size 432x288 with 1 Axes>"
            ]
          },
          "metadata": {
            "tags": []
          }
        }
      ]
    },
    {
      "cell_type": "code",
      "metadata": {
        "id": "_EoCohxJWtaK",
        "colab_type": "code",
        "outputId": "76fced95-4b65-497b-95f9-7f2d83aa4858",
        "colab": {
          "base_uri": "https://localhost:8080/",
          "height": 312
        }
      },
      "source": [
        "def costs(fn, fp, costFP=1, costFN=10):\n",
        "    '''Calculates the \"cost\" of misclassification errors'''\n",
        "    cost=[fn[i]*costFN+costFP*fp[i] for i in range(len(fn))]\n",
        "    return(cost)\n",
        "\n",
        "costs=costs(resultsFN,resultsFP)\n",
        "plt.plot(thresholds,costs, label=\"Costs\") \n",
        "plt.title(\"Cost function for different threshold values.\")\n",
        "plt.xlabel('Threshold')\n",
        "plt.ylabel('Cost function')\n",
        "plt.imshow"
      ],
      "execution_count": 0,
      "outputs": [
        {
          "output_type": "execute_result",
          "data": {
            "text/plain": [
              "<function matplotlib.pyplot.imshow>"
            ]
          },
          "metadata": {
            "tags": []
          },
          "execution_count": 76
        },
        {
          "output_type": "display_data",
          "data": {
            "image/png": "[encoded data removed]",
            "text/plain": [
              "<Figure size 432x288 with 1 Axes>"
            ]
          },
          "metadata": {
            "tags": []
          }
        }
      ]
    },
    {
      "cell_type": "markdown",
      "metadata": {
        "id": "CIfsPTCRbXXM",
        "colab_type": "text"
      },
      "source": [
        "**Visualizing Curves**"
      ]
    },
    {
      "cell_type": "code",
      "metadata": {
        "id": "bv58ZecxbKtg",
        "colab_type": "code",
        "outputId": "c41e12ad-d2a3-4e57-f495-23ffbc432465",
        "colab": {
          "base_uri": "https://localhost:8080/",
          "height": 424
        }
      },
      "source": [
        "# Visualize the change in training accuracy and loss in the 50 epochs\n",
        "plt.figure(figsize=(18,6))\n",
        "plt.subplot(1,2,1)\n",
        "plt.plot(mod.history['acc'], color = 'green')\n",
        "plt.title('The Training Accuracy')\n",
        "plt.xlabel('Epochs')\n",
        "plt.ylabel('Training Accuracy')\n",
        "plt.subplot(1,2,2)\n",
        "plt.plot(mod.history['loss'], color = 'red')\n",
        "plt.title('The Training Loss')\n",
        "plt.xlabel('Epochs')\n",
        "plt.ylabel('Training Loss')\n",
        "plt.show()"
      ],
      "execution_count": 0,
      "outputs": [
        {
          "output_type": "display_data",
          "data": {
            "image/png": "[encoded data removed]",
            "text/plain": [
              "<Figure size 1296x432 with 2 Axes>"
            ]
          },
          "metadata": {
            "tags": []
          }
        }
      ]
    },
    {
      "cell_type": "code",
      "metadata": {
        "id": "UW0x-G4sXeJY",
        "colab_type": "code",
        "colab": {}
      },
      "source": [
        ""
      ],
      "execution_count": 0,
      "outputs": []
    }
  ]
}
